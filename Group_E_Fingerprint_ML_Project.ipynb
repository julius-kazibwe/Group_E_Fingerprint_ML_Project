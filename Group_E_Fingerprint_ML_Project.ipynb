{
  "nbformat": 4,
  "nbformat_minor": 0,
  "metadata": {
    "colab": {
      "provenance": [],
      "authorship_tag": "ABX9TyPEjR37ArC3tzscO6QSEpUc",
      "include_colab_link": true
    },
    "kernelspec": {
      "name": "python3",
      "display_name": "Python 3"
    },
    "language_info": {
      "name": "python"
    }
  },
  "cells": [
    {
      "cell_type": "markdown",
      "metadata": {
        "id": "view-in-github",
        "colab_type": "text"
      },
      "source": [
        "<a href=\"https://colab.research.google.com/github/julius-kazibwe/Group_E_Fingerprint_ML_Project/blob/master/Group_E_Fingerprint_ML_Project.ipynb\" target=\"_parent\"><img src=\"https://colab.research.google.com/assets/colab-badge.svg\" alt=\"Open In Colab\"/></a>"
      ]
    },
    {
      "cell_type": "code",
      "execution_count": null,
      "metadata": {
        "id": "e3esNPTH3Da9"
      },
      "outputs": [],
      "source": [
        "import numpy as np\n",
        "import pandas as pd\n",
        "import seaborn as sns\n",
        "import tensorflow as tf\n",
        "\n",
        "import os\n",
        "import cv2\n",
        "\n",
        "import matplotlib.pyplot as plt"
      ]
    },
    {
      "cell_type": "code",
      "source": [
        "# from google.colab import drive\n",
        "# drive.mount('/content/drive')\n",
        "\n"
      ],
      "metadata": {
        "id": "WnFyKctA4GnS"
      },
      "execution_count": null,
      "outputs": []
    },
    {
      "cell_type": "code",
      "source": [
        "import zipfile\n",
        "\n",
        "# Define the path of the ZIP file in your Google Drive\n",
        "zip_file_path = '/content/drive/My Drive/Colab Notebooks/fingerprint_datasets.zip'\n",
        "\n",
        "# Define the folder where you want to extract the dataset\n",
        "extracted_folder_path = '/content/dataset/'\n",
        "\n",
        "# Unzip the dataset\n",
        "with zipfile.ZipFile(zip_file_path, 'r') as zip_ref:\n",
        "    zip_ref.extractall(extracted_folder_path)\n",
        "\n",
        "print('Dataset extracted successfully!')\n"
      ],
      "metadata": {
        "colab": {
          "base_uri": "https://localhost:8080/"
        },
        "id": "wQgZioX0-C6V",
        "outputId": "1fb4b65b-708b-4df0-a5d5-216bae7911e3"
      },
      "execution_count": null,
      "outputs": [
        {
          "output_type": "stream",
          "name": "stdout",
          "text": [
            "Dataset extracted successfully!\n"
          ]
        }
      ]
    },
    {
      "cell_type": "code",
      "source": [
        "# List all files in the dataset folder\n",
        "file_list = os.listdir(extracted_folder_path)\n",
        "print(file_list)\n"
      ],
      "metadata": {
        "colab": {
          "base_uri": "https://localhost:8080/"
        },
        "id": "zTc0FKc3D2Jk",
        "outputId": "ae9476f4-203f-41af-989c-d59d2a437dba"
      },
      "execution_count": null,
      "outputs": [
        {
          "output_type": "stream",
          "name": "stdout",
          "text": [
            "['fingerprint_datasets']\n"
          ]
        }
      ]
    },
    {
      "cell_type": "code",
      "source": [
        "# Define the path to the 'fingerprint_datasets' folder in your Colab environment\n",
        "dataset_folder_path = '/content/dataset/fingerprint_datasets/'\n",
        "\n",
        "# List all files in the 'fingerprint_datasets' folder\n",
        "file_list = os.listdir(dataset_folder_path)\n",
        "\n",
        "# Print the list of files\n",
        "print(file_list)\n"
      ],
      "metadata": {
        "colab": {
          "base_uri": "https://localhost:8080/"
        },
        "id": "LDc4Q4xJFVTl",
        "outputId": "9ba30e64-b239-43ca-e29d-e73c63e9e24f"
      },
      "execution_count": null,
      "outputs": [
        {
          "output_type": "stream",
          "name": "stdout",
          "text": [
            "['Altered', 'Real']\n"
          ]
        }
      ]
    },
    {
      "cell_type": "code",
      "source": [
        "def extract_label(img_path,train = True):\n",
        "    filename, _ = os.path.splitext(os.path.basename(img_path))\n",
        "\n",
        "    subject_id, etc = filename.split('__')\n",
        "\n",
        "    if train:\n",
        "      gender, lr, finger, _, _ = etc.split('_')\n",
        "    else:\n",
        "      gender, lr, finger, _ = etc.split('_')\n",
        "\n",
        "    gender = 0 if gender == 'M' else 1\n",
        "    lr = 0 if lr == 'Left' else 1\n",
        "\n",
        "    if finger == 'thumb':\n",
        "      finger = 0\n",
        "    elif finger == 'index':\n",
        "      finger = 1\n",
        "    elif finger == 'middle':\n",
        "      finger = 2\n",
        "    elif finger == 'ring':\n",
        "      finger = 3\n",
        "    elif finger == 'little':\n",
        "      finger = 4\n",
        "    return np.array([gender], dtype=np.uint16)"
      ],
      "metadata": {
        "id": "yBZUR1dkF4sm"
      },
      "execution_count": null,
      "outputs": []
    },
    {
      "cell_type": "code",
      "source": [
        "img_size = 96\n",
        "\n",
        "\n",
        "def loading_data(path,boolean):\n",
        "    data = []\n",
        "    for img in os.listdir(path):\n",
        "            img_array = cv2.imread(os.path.join(path, img), cv2.IMREAD_GRAYSCALE)\n",
        "            img_resize = cv2.resize(img_array, (img_size, img_size))\n",
        "            label = extract_label(os.path.join(path, img),boolean)\n",
        "\n",
        "            data.append([label[0], img_resize ])\n",
        "            if len(data) % 1000 == 0:\n",
        "                print(len(data))\n",
        "    return data"
      ],
      "metadata": {
        "id": "KkCaGRzMHWEC"
      },
      "execution_count": null,
      "outputs": []
    },
    {
      "cell_type": "code",
      "source": [],
      "metadata": {
        "id": "aRka1ZBDWx76"
      },
      "execution_count": null,
      "outputs": []
    },
    {
      "cell_type": "code",
      "source": [
        "Easy_path = os.path.join(dataset_folder_path, 'Altered', 'Altered-Easy')\n",
        "Medium_path = os.path.join(dataset_folder_path, 'Altered', 'Altered-Medium')\n",
        "Hard_path = os.path.join(dataset_folder_path, 'Altered', 'Altered-Hard')\n",
        "Real_path = os.path.join(dataset_folder_path, 'Real')\n",
        "\n",
        "Easy_images= loading_data(Easy_path, True)\n",
        "\n",
        "directories = [Real_path, Easy_path, Medium_path, Hard_path]\n"
      ],
      "metadata": {
        "id": "oRp7cuQHHsu7"
      },
      "execution_count": null,
      "outputs": []
    },
    {
      "cell_type": "code",
      "source": [
        "img, labels = [], []\n",
        "for label, feature in Easy_images:\n",
        "    labels.append(label)\n",
        "    img.append(feature)"
      ],
      "metadata": {
        "id": "XBl2W9onJ2Mu"
      },
      "execution_count": null,
      "outputs": []
    },
    {
      "cell_type": "code",
      "source": [
        "train_data = np.array(img).reshape(-1, img_size, img_size, 1)\n",
        "train_data = train_data / 255.0\n"
      ],
      "metadata": {
        "id": "YWxhUMpvWylZ"
      },
      "execution_count": null,
      "outputs": []
    },
    {
      "cell_type": "code",
      "source": [
        "from keras.utils.np_utils import to_categorical\n",
        "train_labels = to_categorical(labels, num_classes = 2)"
      ],
      "metadata": {
        "id": "3aV630uzW_i9"
      },
      "execution_count": null,
      "outputs": []
    },
    {
      "cell_type": "code",
      "source": [
        "labels = np.array(labels)"
      ],
      "metadata": {
        "id": "KsLF5Qj1XLD4"
      },
      "execution_count": null,
      "outputs": []
    },
    {
      "cell_type": "code",
      "source": [
        "plt.imshow(train_data[40])"
      ],
      "metadata": {
        "id": "t3sgvK_mXNch"
      },
      "execution_count": null,
      "outputs": []
    },
    {
      "cell_type": "code",
      "source": [
        "from tensorflow.keras import Sequential\n",
        "from tensorflow.keras.layers import Conv2D, MaxPooling2D, Dense, Flatten, BatchNormalization, Dropout\n",
        "from tensorflow.keras import layers\n",
        "from tensorflow.keras import optimizers\n",
        "\n",
        "model = Sequential([\n",
        "Conv2D(32, 3, padding='same', activation='relu',kernel_initializer='he_uniform', input_shape = [96, 96, 1]),\n",
        "MaxPooling2D(2),\n",
        "Conv2D(32, 3, padding='same', kernel_initializer='he_uniform', activation='relu'),\n",
        "MaxPooling2D(2),\n",
        "Flatten(),\n",
        "Dense(128, kernel_initializer='he_uniform',activation = 'relu'),\n",
        "Dense(1, activation = 'sigmoid'),\n",
        "])\n",
        "model.summary()\n",
        "\n",
        "\n",
        "model.compile(optimizer = optimizers.Adam(1e-3), loss = 'binary_crossentropy', metrics = ['accuracy'])\n",
        "early_stopping_cb = tf.keras.callbacks.EarlyStopping(monitor='val_loss', patience=10)"
      ],
      "metadata": {
        "colab": {
          "base_uri": "https://localhost:8080/"
        },
        "id": "p8EPGI4XXuSi",
        "outputId": "a0f6f7bf-3801-4142-8676-728388932ae1"
      },
      "execution_count": null,
      "outputs": [
        {
          "output_type": "stream",
          "name": "stdout",
          "text": [
            "Model: \"sequential_2\"\n",
            "_________________________________________________________________\n",
            " Layer (type)                Output Shape              Param #   \n",
            "=================================================================\n",
            " conv2d_4 (Conv2D)           (None, 96, 96, 32)        320       \n",
            "                                                                 \n",
            " max_pooling2d_4 (MaxPooling  (None, 48, 48, 32)       0         \n",
            " 2D)                                                             \n",
            "                                                                 \n",
            " conv2d_5 (Conv2D)           (None, 48, 48, 32)        9248      \n",
            "                                                                 \n",
            " max_pooling2d_5 (MaxPooling  (None, 24, 24, 32)       0         \n",
            " 2D)                                                             \n",
            "                                                                 \n",
            " flatten_2 (Flatten)         (None, 18432)             0         \n",
            "                                                                 \n",
            " dense_4 (Dense)             (None, 128)               2359424   \n",
            "                                                                 \n",
            " dense_5 (Dense)             (None, 1)                 129       \n",
            "                                                                 \n",
            "=================================================================\n",
            "Total params: 2,369,121\n",
            "Trainable params: 2,369,121\n",
            "Non-trainable params: 0\n",
            "_________________________________________________________________\n"
          ]
        }
      ]
    },
    {
      "cell_type": "code",
      "source": [
        "type(labels)"
      ],
      "metadata": {
        "colab": {
          "base_uri": "https://localhost:8080/"
        },
        "id": "B7VBV7rSYQby",
        "outputId": "89530998-5c9d-4398-c5a5-427aa3495640"
      },
      "execution_count": null,
      "outputs": [
        {
          "output_type": "execute_result",
          "data": {
            "text/plain": [
              "numpy.ndarray"
            ]
          },
          "metadata": {},
          "execution_count": 32
        }
      ]
    },
    {
      "cell_type": "code",
      "source": [
        "history = model.fit(train_data, labels, batch_size = 128, epochs = 24,\n",
        "          validation_split = 0.2, callbacks = [early_stopping_cb], verbose = 1)"
      ],
      "metadata": {
        "colab": {
          "base_uri": "https://localhost:8080/"
        },
        "id": "4IRp9Bb1YW3-",
        "outputId": "ee8ae7e7-6e2a-42a7-df82-2ea27a7694d8"
      },
      "execution_count": null,
      "outputs": [
        {
          "output_type": "stream",
          "name": "stdout",
          "text": [
            "Epoch 1/24\n",
            "113/113 [==============================] - 208s 2s/step - loss: 0.7833 - accuracy: 0.7750 - val_loss: 0.4976 - val_accuracy: 0.7931\n",
            "Epoch 2/24\n",
            "113/113 [==============================] - 206s 2s/step - loss: 0.4473 - accuracy: 0.8016 - val_loss: 0.4742 - val_accuracy: 0.7959\n",
            "Epoch 3/24\n",
            "113/113 [==============================] - 200s 2s/step - loss: 0.4082 - accuracy: 0.8235 - val_loss: 0.4138 - val_accuracy: 0.8193\n",
            "Epoch 4/24\n",
            "113/113 [==============================] - 194s 2s/step - loss: 0.3502 - accuracy: 0.8518 - val_loss: 0.4389 - val_accuracy: 0.8023\n",
            "Epoch 5/24\n",
            "113/113 [==============================] - 205s 2s/step - loss: 0.3058 - accuracy: 0.8740 - val_loss: 0.3350 - val_accuracy: 0.8500\n",
            "Epoch 6/24\n",
            "113/113 [==============================] - 213s 2s/step - loss: 0.2375 - accuracy: 0.9063 - val_loss: 0.4197 - val_accuracy: 0.8283\n",
            "Epoch 7/24\n",
            "113/113 [==============================] - 208s 2s/step - loss: 0.2012 - accuracy: 0.9212 - val_loss: 0.2664 - val_accuracy: 0.8927\n",
            "Epoch 8/24\n",
            "113/113 [==============================] - 209s 2s/step - loss: 0.1574 - accuracy: 0.9396 - val_loss: 0.2258 - val_accuracy: 0.9122\n",
            "Epoch 9/24\n",
            "113/113 [==============================] - 217s 2s/step - loss: 0.1183 - accuracy: 0.9570 - val_loss: 0.2089 - val_accuracy: 0.9228\n",
            "Epoch 10/24\n",
            "113/113 [==============================] - 210s 2s/step - loss: 0.0796 - accuracy: 0.9758 - val_loss: 0.2265 - val_accuracy: 0.9186\n",
            "Epoch 11/24\n",
            "113/113 [==============================] - 202s 2s/step - loss: 0.0605 - accuracy: 0.9815 - val_loss: 0.1591 - val_accuracy: 0.9507\n",
            "Epoch 12/24\n",
            "113/113 [==============================] - 207s 2s/step - loss: 0.0433 - accuracy: 0.9890 - val_loss: 0.1702 - val_accuracy: 0.9426\n",
            "Epoch 13/24\n",
            "113/113 [==============================] - 209s 2s/step - loss: 0.0323 - accuracy: 0.9932 - val_loss: 0.1444 - val_accuracy: 0.9590\n",
            "Epoch 14/24\n",
            "113/113 [==============================] - 217s 2s/step - loss: 0.0221 - accuracy: 0.9966 - val_loss: 0.1442 - val_accuracy: 0.9607\n",
            "Epoch 15/24\n",
            "113/113 [==============================] - 210s 2s/step - loss: 0.0166 - accuracy: 0.9976 - val_loss: 0.1455 - val_accuracy: 0.9618\n",
            "Epoch 16/24\n",
            "113/113 [==============================] - 207s 2s/step - loss: 0.0145 - accuracy: 0.9980 - val_loss: 0.1542 - val_accuracy: 0.9565\n",
            "Epoch 17/24\n",
            "113/113 [==============================] - 214s 2s/step - loss: 0.0100 - accuracy: 0.9988 - val_loss: 0.1453 - val_accuracy: 0.9682\n",
            "Epoch 18/24\n",
            "113/113 [==============================] - 209s 2s/step - loss: 0.0105 - accuracy: 0.9985 - val_loss: 0.3162 - val_accuracy: 0.8868\n",
            "Epoch 19/24\n",
            "113/113 [==============================] - 213s 2s/step - loss: 0.1228 - accuracy: 0.9534 - val_loss: 0.2486 - val_accuracy: 0.9155\n",
            "Epoch 20/24\n",
            "113/113 [==============================] - 209s 2s/step - loss: 0.0472 - accuracy: 0.9849 - val_loss: 0.1647 - val_accuracy: 0.9451\n",
            "Epoch 21/24\n",
            "113/113 [==============================] - 208s 2s/step - loss: 0.0132 - accuracy: 0.9971 - val_loss: 0.1676 - val_accuracy: 0.9643\n",
            "Epoch 22/24\n",
            "113/113 [==============================] - 207s 2s/step - loss: 0.0068 - accuracy: 0.9993 - val_loss: 0.1521 - val_accuracy: 0.9674\n",
            "Epoch 23/24\n",
            "113/113 [==============================] - 208s 2s/step - loss: 0.0053 - accuracy: 0.9998 - val_loss: 0.1801 - val_accuracy: 0.9668\n",
            "Epoch 24/24\n",
            "113/113 [==============================] - 196s 2s/step - loss: 0.0033 - accuracy: 0.9999 - val_loss: 0.1656 - val_accuracy: 0.9721\n"
          ]
        }
      ]
    },
    {
      "cell_type": "code",
      "source": [
        "test_data = loading_data(Real_path,False)\n",
        "\n",
        "x_test,y_test= [], []\n",
        "for label, feature in test_data:\n",
        "    y_test.append(label)\n",
        "    x_test.append(feature)"
      ],
      "metadata": {
        "colab": {
          "base_uri": "https://localhost:8080/"
        },
        "id": "9wsZ6GE7s_JW",
        "outputId": "1fc0f0bc-3ef2-49eb-f165-5ec1c1b96d9b"
      },
      "execution_count": null,
      "outputs": [
        {
          "output_type": "stream",
          "name": "stdout",
          "text": [
            "1000\n",
            "2000\n",
            "3000\n",
            "4000\n",
            "5000\n",
            "6000\n"
          ]
        }
      ]
    },
    {
      "cell_type": "code",
      "source": [
        "x_test = np.array(x_test).reshape(-1, img_size, img_size, 1)\n",
        "y_test = np.array(y_test)\n",
        "type(y_test)"
      ],
      "metadata": {
        "colab": {
          "base_uri": "https://localhost:8080/"
        },
        "id": "eOKv8mSltLBj",
        "outputId": "00d1b867-01a0-442e-8bf0-a7a642c00f16"
      },
      "execution_count": null,
      "outputs": [
        {
          "output_type": "execute_result",
          "data": {
            "text/plain": [
              "numpy.ndarray"
            ]
          },
          "metadata": {},
          "execution_count": 36
        }
      ]
    },
    {
      "cell_type": "code",
      "source": [
        "model.evaluate(x_test,y_test)"
      ],
      "metadata": {
        "colab": {
          "base_uri": "https://localhost:8080/"
        },
        "id": "PYWl12RJtP-w",
        "outputId": "55e72a19-4866-49ea-8a45-e338e08101f8"
      },
      "execution_count": null,
      "outputs": [
        {
          "output_type": "stream",
          "name": "stdout",
          "text": [
            "188/188 [==============================] - 23s 121ms/step - loss: 8.2061 - accuracy: 0.9918\n"
          ]
        },
        {
          "output_type": "execute_result",
          "data": {
            "text/plain": [
              "[8.20605754852295, 0.9918333292007446]"
            ]
          },
          "metadata": {},
          "execution_count": 37
        }
      ]
    },
    {
      "cell_type": "code",
      "source": [
        "from sklearn.metrics import confusion_matrix\n",
        "\n",
        "plt.figure(figsize=(15, 5))\n",
        "\n",
        "preds = model.predict(x_test)\n",
        "preds = (preds >= 0.5).astype(np.int32)\n",
        "cm = confusion_matrix(y_test, preds)\n",
        "df_cm = pd.DataFrame(cm, index=['Male', 'Female'], columns=['Male', 'Female'])\n",
        "plt.subplot(121)\n",
        "plt.title(\"Confusion matrix for my model\\n\")\n",
        "sns.heatmap(df_cm, annot=True, fmt=\"d\", cmap=\"YlGnBu\")\n",
        "plt.ylabel(\"Predicted\")\n",
        "plt.xlabel(\"Actual\")\n",
        "\n",
        "print(len(y_test==1))"
      ],
      "metadata": {
        "colab": {
          "base_uri": "https://localhost:8080/",
          "height": 543
        },
        "id": "6GNDA-fPteZT",
        "outputId": "f022d2d5-c286-48b5-d766-43a929586a27"
      },
      "execution_count": null,
      "outputs": [
        {
          "output_type": "stream",
          "name": "stdout",
          "text": [
            "188/188 [==============================] - 30s 158ms/step\n",
            "6000\n"
          ]
        },
        {
          "output_type": "display_data",
          "data": {
            "text/plain": [
              "<Figure size 1500x500 with 2 Axes>"
            ],
            "image/png": "[encoded data removed]"
          },
          "metadata": {}
        }
      ]
    },
    {
      "cell_type": "code",
      "source": [
        "model.save('GROUP_E_MODEL.h5')"
      ],
      "metadata": {
        "id": "xFjzRfIEt8ti"
      },
      "execution_count": null,
      "outputs": []
    },
    {
      "cell_type": "code",
      "source": [
        "for i in range(5):\n",
        "    print('True: ',y_test[i])\n",
        "    print('predicted: ',model.predict(np.expand_dims(x_test[i],0))[0])\n",
        "    print()\n",
        "    plt.imshow(x_test[i])\n",
        "    plt.show()"
      ],
      "metadata": {
        "id": "b0Dytlb9uaB9"
      },
      "execution_count": null,
      "outputs": []
    },
    {
      "cell_type": "code",
      "source": [],
      "metadata": {
        "id": "HMcrlBAXt6VC"
      },
      "execution_count": null,
      "outputs": []
    }
  ]
}